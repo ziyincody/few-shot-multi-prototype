{
  "nbformat": 4,
  "nbformat_minor": 0,
  "metadata": {
    "colab": {
      "name": "Few-shot.ipynb",
      "provenance": [],
      "collapsed_sections": [],
      "toc_visible": true
    },
    "kernelspec": {
      "name": "python3",
      "display_name": "Python 3"
    },
    "accelerator": "GPU"
  },
  "cells": [
    {
      "cell_type": "code",
      "metadata": {
        "id": "0Gin0Lcg9Rpj",
        "colab_type": "code",
        "colab": {}
      },
      "source": [
        "from google.colab import drive\n",
        "drive.mount('/content/gdrive')"
      ],
      "execution_count": null,
      "outputs": []
    },
    {
      "cell_type": "code",
      "metadata": {
        "id": "zgM4z2jMsBPS",
        "colab_type": "code",
        "colab": {}
      },
      "source": [
        "!git clone https://github.com/ziyincody/few-shot-multi-prototype.git gdrive/'My Drive'/few-shot-multi-prototype"
      ],
      "execution_count": null,
      "outputs": []
    },
    {
      "cell_type": "code",
      "metadata": {
        "id": "4PdtNH2A-aki",
        "colab_type": "code",
        "colab": {}
      },
      "source": [
        "!pip install sacred"
      ],
      "execution_count": null,
      "outputs": []
    },
    {
      "cell_type": "code",
      "metadata": {
        "id": "NDjX4Ct39Sxe",
        "colab_type": "code",
        "colab": {}
      },
      "source": [
        "%cp gdrive/'My Drive'/Research/Few-shot/PANet/VOCdevkit.zip /content/"
      ],
      "execution_count": 6,
      "outputs": []
    },
    {
      "cell_type": "code",
      "metadata": {
        "id": "aU9qF7Km9jUJ",
        "colab_type": "code",
        "colab": {}
      },
      "source": [
        "!unzip VOCdevkit.zip"
      ],
      "execution_count": null,
      "outputs": []
    },
    {
      "cell_type": "code",
      "metadata": {
        "id": "nJ-8PBjW9vlH",
        "colab_type": "code",
        "colab": {}
      },
      "source": [
        "%cd /content/gdrive/'My Drive'/few-shot-multi-prototype"
      ],
      "execution_count": null,
      "outputs": []
    },
    {
      "cell_type": "code",
      "metadata": {
        "id": "HoxFtTTySBWl",
        "colab_type": "code",
        "colab": {}
      },
      "source": [
        "!python train.py with mode='train' dataset='VOC' label_sets=2 model.align=False task.n_ways=1 task.n_shots=1 save_pred_every=5000 n_steps=30000 print_interval=50"
      ],
      "execution_count": null,
      "outputs": []
    },
    {
      "cell_type": "markdown",
      "metadata": {
        "id": "6pPJeytDv5L1",
        "colab_type": "text"
      },
      "source": [
        "Test by\n",
        "`python test.py with mode='test' snapshot='<snapshot>'`"
      ]
    }
  ]
}